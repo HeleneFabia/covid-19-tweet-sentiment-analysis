{
 "cells": [
  {
   "cell_type": "markdown",
   "metadata": {},
   "source": [
    "# COVID-19 Tweet Sentiment Analysis\n",
    "\n",
    "The goal of this project is to classify tweets about COVID-19 into positive sentiment and negative emotion. Thsi project also serves to make myself more familiar with state-of-the-art NLP models. "
   ]
  },
  {
   "cell_type": "markdown",
   "metadata": {},
   "source": [
    "## Import the data"
   ]
  },
  {
   "cell_type": "code",
   "execution_count": 1,
   "metadata": {
    "_cell_guid": "b1076dfc-b9ad-4769-8c92-a6c4dae69d19",
    "_uuid": "8f2839f25d086af736a60e9eeb907d3b93b6e0e5"
   },
   "outputs": [
    {
     "name": "stderr",
     "output_type": "stream",
     "text": [
      "\u001b[34m\u001b[1mwandb\u001b[0m: \u001b[33mWARNING\u001b[0m W&B installed but not logged in.  Run `wandb login` or set the WANDB_API_KEY env variable.\n"
     ]
    }
   ],
   "source": [
    "import numpy as np \n",
    "import pandas as pd \n",
    "pd.set_option('display.max_colwidth', 500)\n",
    "import matplotlib.pyplot as plt\n",
    "import seaborn as sns\n",
    "\n",
    "from sklearn.model_selection import train_test_split\n",
    "from sklearn.metrics import f1_score, accuracy_score\n",
    "\n",
    "import torch\n",
    "from torch.utils.data import Dataset, DataLoader\n",
    "import torch.nn as nn\n",
    "\n",
    "from transformers import BertTokenizer, BertForSequenceClassification, AdamW, BertConfig, get_linear_schedule_with_warmup\n",
    "from torch.utils.data import TensorDataset, random_split, DataLoader, RandomSampler, SequentialSampler\n",
    "\n",
    "from datetime import datetime, timedelta\n",
    "import time\n",
    "\n",
    "import string\n",
    "import re\n",
    "\n",
    "import random\n",
    "seed_val = 42\n",
    "random.seed(seed_val)\n",
    "np.random.seed(seed_val)\n",
    "torch.manual_seed(seed_val)\n",
    "torch.cuda.manual_seed_all(seed_val)"
   ]
  },
  {
   "cell_type": "code",
   "execution_count": 2,
   "metadata": {},
   "outputs": [],
   "source": [
    "if torch.cuda.is_available():    \n",
    "    device = torch.device('cuda')    \n",
    "else:\n",
    "    device = torch.device('cpu')"
   ]
  },
  {
   "cell_type": "markdown",
   "metadata": {},
   "source": [
    "The data for this project comes from Kaggle ([COVID-19 NLP Text Classification](https://www.kaggle.com/datatattle/covid-19-nlp-text-classification)) and contains approx. 45,000 tweets concerning COVID-19. "
   ]
  },
  {
   "cell_type": "code",
   "execution_count": 3,
   "metadata": {
    "_cell_guid": "79c7e3d0-c299-4dcb-8224-4455121ee9b0",
    "_uuid": "d629ff2d2480ee46fbb7e2d37f6b5fab8052498a"
   },
   "outputs": [],
   "source": [
    "train = pd.read_csv('../input/covid-19-nlp-text-classification/Corona_NLP_train.csv', encoding='latin1')\n",
    "test = pd.read_csv('../input/covid-19-nlp-text-classification/Corona_NLP_test.csv', encoding='latin1')"
   ]
  },
  {
   "cell_type": "markdown",
   "metadata": {},
   "source": [
    "As we can see, the data includes the Twitter username, their location, the date the tweet was posted, the text of the tweet and the corresponding label (extremely negative, negative, neutral, positive, extremely positive)"
   ]
  },
  {
   "cell_type": "code",
   "execution_count": 5,
   "metadata": {},
   "outputs": [
    {
     "data": {
      "text/plain": [
       "Positive              11422\n",
       "Negative               9917\n",
       "Neutral                7713\n",
       "Extremely Positive     6624\n",
       "Extremely Negative     5481\n",
       "Name: Sentiment, dtype: int64"
      ]
     },
     "execution_count": 5,
     "metadata": {},
     "output_type": "execute_result"
    }
   ],
   "source": [
    "train.Sentiment.value_counts()"
   ]
  },
  {
   "cell_type": "markdown",
   "metadata": {},
   "source": [
    "## Preprocessing\n",
    "\n",
    "Since I do not want the project to be too complex, I decide to only work with the text data and omit the rest of the columns."
   ]
  },
  {
   "cell_type": "code",
   "execution_count": 6,
   "metadata": {},
   "outputs": [],
   "source": [
    "train = train[['OriginalTweet', 'Sentiment']]\n",
    "test = test[['OriginalTweet', 'Sentiment']]"
   ]
  },
  {
   "cell_type": "markdown",
   "metadata": {},
   "source": [
    "To further simply the task at hand, I decide to turn the problem from a multiclass classification problem into a binary classification problem. As such, I drop the tweets labeled as neutral and merge the classes 'Positive' and 'Extremely Positive', and 'Negative' and 'Extremely Negative'.\n",
    "\n",
    "I do acknowledge that dropping all neutral tweets could turn out to be slightly problematic if the model was to be actually implemented somewhere, since it would definitely encounter neutral tweets but be forced to classify them as either positive or negative. However, since I do this project mainly in order to get more familiar with various different NLP models, simplifying the data is acceptable to me."
   ]
  },
  {
   "cell_type": "code",
   "execution_count": 7,
   "metadata": {},
   "outputs": [],
   "source": [
    "train = train[train.Sentiment != 'Neutral']\n",
    "test = test[test.Sentiment != 'Neutral']"
   ]
  },
  {
   "cell_type": "markdown",
   "metadata": {},
   "source": [
    "For the model to be able to process the labels, I turn them into numerical labels (0 for negative, 1 for positive)."
   ]
  },
  {
   "cell_type": "code",
   "execution_count": 8,
   "metadata": {},
   "outputs": [],
   "source": [
    "label2idx = {'Extremely Negative': 0, \n",
    "            'Negative': 0,\n",
    "            'Positive': 1,\n",
    "            'Extremely Positive': 1}\n",
    "\n",
    "train['Sentiment'] = train['Sentiment'].replace(label2idx)\n",
    "test['Sentiment'] = test['Sentiment'].replace(label2idx)"
   ]
  },
  {
   "cell_type": "code",
   "execution_count": 9,
   "metadata": {},
   "outputs": [
    {
     "data": {
      "text/html": [
       "<div>\n",
       "<style scoped>\n",
       "    .dataframe tbody tr th:only-of-type {\n",
       "        vertical-align: middle;\n",
       "    }\n",
       "\n",
       "    .dataframe tbody tr th {\n",
       "        vertical-align: top;\n",
       "    }\n",
       "\n",
       "    .dataframe thead th {\n",
       "        text-align: right;\n",
       "    }\n",
       "</style>\n",
       "<table border=\"1\" class=\"dataframe\">\n",
       "  <thead>\n",
       "    <tr style=\"text-align: right;\">\n",
       "      <th></th>\n",
       "      <th>OriginalTweet</th>\n",
       "      <th>Sentiment</th>\n",
       "    </tr>\n",
       "  </thead>\n",
       "  <tbody>\n",
       "    <tr>\n",
       "      <th>1</th>\n",
       "      <td>advice Talk to your neighbours family to exchange phone numbers create contact list with phone numbers of neighbours schools employer chemist GP set up online shopping accounts if poss adequate supplies of regular meds but not over order</td>\n",
       "      <td>1</td>\n",
       "    </tr>\n",
       "    <tr>\n",
       "      <th>2</th>\n",
       "      <td>Coronavirus Australia: Woolworths to give elderly, disabled dedicated shopping hours amid COVID-19 outbreak https://t.co/bInCA9Vp8P</td>\n",
       "      <td>1</td>\n",
       "    </tr>\n",
       "    <tr>\n",
       "      <th>3</th>\n",
       "      <td>My food stock is not the only one which is empty...\\r\\r\\n\\r\\r\\nPLEASE, don't panic, THERE WILL BE ENOUGH FOOD FOR EVERYONE if you do not take more than you need. \\r\\r\\nStay calm, stay safe.\\r\\r\\n\\r\\r\\n#COVID19france #COVID_19 #COVID19 #coronavirus #confinement #Confinementotal #ConfinementGeneral https://t.co/zrlG0Z520j</td>\n",
       "      <td>1</td>\n",
       "    </tr>\n",
       "    <tr>\n",
       "      <th>4</th>\n",
       "      <td>Me, ready to go at supermarket during the #COVID19 outbreak.\\r\\r\\n\\r\\r\\nNot because I'm paranoid, but because my food stock is litteraly empty. The #coronavirus is a serious thing, but please, don't panic. It causes shortage...\\r\\r\\n\\r\\r\\n#CoronavirusFrance #restezchezvous #StayAtHome #confinement https://t.co/usmuaLq72n</td>\n",
       "      <td>0</td>\n",
       "    </tr>\n",
       "    <tr>\n",
       "      <th>5</th>\n",
       "      <td>As news of the regionÂs first confirmed COVID-19 case came out of Sullivan County last week, people flocked to area stores to purchase cleaning supplies, hand sanitizer, food, toilet paper and other goods, @Tim_Dodson reports https://t.co/cfXch7a2lU</td>\n",
       "      <td>1</td>\n",
       "    </tr>\n",
       "  </tbody>\n",
       "</table>\n",
       "</div>"
      ],
      "text/plain": [
       "                                                                                                                                                                                                                                                                                                                        OriginalTweet  \\\n",
       "1                                                                                       advice Talk to your neighbours family to exchange phone numbers create contact list with phone numbers of neighbours schools employer chemist GP set up online shopping accounts if poss adequate supplies of regular meds but not over order   \n",
       "2                                                                                                                                                                                                 Coronavirus Australia: Woolworths to give elderly, disabled dedicated shopping hours amid COVID-19 outbreak https://t.co/bInCA9Vp8P   \n",
       "3   My food stock is not the only one which is empty...\\r\\r\\n\\r\\r\\nPLEASE, don't panic, THERE WILL BE ENOUGH FOOD FOR EVERYONE if you do not take more than you need. \\r\\r\\nStay calm, stay safe.\\r\\r\\n\\r\\r\\n#COVID19france #COVID_19 #COVID19 #coronavirus #confinement #Confinementotal #ConfinementGeneral https://t.co/zrlG0Z520j   \n",
       "4  Me, ready to go at supermarket during the #COVID19 outbreak.\\r\\r\\n\\r\\r\\nNot because I'm paranoid, but because my food stock is litteraly empty. The #coronavirus is a serious thing, but please, don't panic. It causes shortage...\\r\\r\\n\\r\\r\\n#CoronavirusFrance #restezchezvous #StayAtHome #confinement https://t.co/usmuaLq72n   \n",
       "5                                                                          As news of the regionÂs first confirmed COVID-19 case came out of Sullivan County last week, people flocked to area stores to purchase cleaning supplies, hand sanitizer, food, toilet paper and other goods, @Tim_Dodson reports https://t.co/cfXch7a2lU   \n",
       "\n",
       "   Sentiment  \n",
       "1          1  \n",
       "2          1  \n",
       "3          1  \n",
       "4          0  \n",
       "5          1  "
      ]
     },
     "execution_count": 9,
     "metadata": {},
     "output_type": "execute_result"
    }
   ],
   "source": [
    "train.head()"
   ]
  },
  {
   "cell_type": "markdown",
   "metadata": {},
   "source": [
    "## Tokenization and Building the Dataset and Dataloader\n",
    "\n",
    "In order to feed the data to my model, I build a simple dataset class that I then use to tokenize the tweets. For this, I import the BERT tokenizer with the the transformers library. This tokenizer is specifically built for the BERT model.\n",
    "\n",
    "In oder to give a reasonable parameter value for `max_length` (which defines the maximum number of tokens in a sequence, I first tokenize all tweets. I then have a look at the distribution of tweet lengths and take the length corresponding to the 99th percentile (which turn out to be 100 tokens)."
   ]
  },
  {
   "cell_type": "code",
   "execution_count": 10,
   "metadata": {},
   "outputs": [],
   "source": [
    "class TweetDataset_fortokenization(Dataset):\n",
    "    \n",
    "    def __init__(self, text, labels):\n",
    "        self.text = text.values\n",
    "        self.labels = labels.values\n",
    "        \n",
    "    def __len__(self):\n",
    "        return len(self.text)\n",
    "    \n",
    "    def __getitem__(self, idx):\n",
    "        return (self.text[idx], self.labels[idx])"
   ]
  },
  {
   "cell_type": "code",
   "execution_count": 11,
   "metadata": {},
   "outputs": [],
   "source": [
    "train_ds = TweetDataset_fortokenization(train['OriginalTweet'], train['Sentiment'])\n",
    "test_ds = TweetDataset_fortokenization(test['OriginalTweet'], test['Sentiment'])"
   ]
  },
  {
   "cell_type": "code",
   "execution_count": 12,
   "metadata": {},
   "outputs": [
    {
     "data": {
      "text/plain": [
       "(33444, 3179)"
      ]
     },
     "execution_count": 12,
     "metadata": {},
     "output_type": "execute_result"
    }
   ],
   "source": [
    "len(train_ds), len(test_ds)"
   ]
  },
  {
   "cell_type": "code",
   "execution_count": 13,
   "metadata": {},
   "outputs": [],
   "source": [
    "tokenizer = BertTokenizer.from_pretrained('bert-large-uncased', do_lower_case=True)"
   ]
  },
  {
   "cell_type": "code",
   "execution_count": 14,
   "metadata": {},
   "outputs": [
    {
     "name": "stdout",
     "output_type": "stream",
     "text": [
      "Me: I don't need to stock up on food, I'll just have Amazon deliver whatever I need #CoronaVirus\r",
      "\r\n",
      "\r",
      "\r\n",
      "Amazon: https://t.co/8YWaKFjExC\n",
      "['me', ':', 'i', 'don', \"'\", 't', 'need', 'to', 'stock', 'up', 'on', 'food', ',', 'i', \"'\", 'll', 'just', 'have', 'amazon', 'deliver', 'whatever', 'i', 'need', '#', 'corona', '##virus', 'amazon', ':', 'https', ':', '/', '/', 't', '.', 'co', '/', '8', '##y', '##wa', '##k', '##f', '##je', '##x', '##c']\n",
      "[2033, 1024, 1045, 2123, 1005, 1056, 2342, 2000, 4518, 2039, 2006, 2833, 1010, 1045, 1005, 2222, 2074, 2031, 9733, 8116, 3649, 1045, 2342, 1001, 21887, 23350, 9733, 1024, 16770, 1024, 1013, 1013, 1056, 1012, 2522, 1013, 1022, 2100, 4213, 2243, 2546, 6460, 2595, 2278]\n"
     ]
    }
   ],
   "source": [
    "example = train_ds.text[10]\n",
    "print(example)\n",
    "print(tokenizer.tokenize(example))\n",
    "print(tokenizer.convert_tokens_to_ids(tokenizer.tokenize(example)))\n"
   ]
  },
  {
   "cell_type": "code",
   "execution_count": 15,
   "metadata": {},
   "outputs": [],
   "source": [
    "all_lengths = []\n",
    "for tweet in range(len(train_ds)):\n",
    "    input_ids = tokenizer.encode(train_ds[tweet][0], add_special_tokens=True)\n",
    "    all_lengths.append(len(input_ids))"
   ]
  },
  {
   "cell_type": "code",
   "execution_count": 16,
   "metadata": {},
   "outputs": [
    {
     "name": "stdout",
     "output_type": "stream",
     "text": [
      "[ 69.  81. 100.] 209\n"
     ]
    }
   ],
   "source": [
    "print(np.percentile(all_lengths, [75, 90, 99]), max(all_lengths))"
   ]
  },
  {
   "cell_type": "markdown",
   "metadata": {},
   "source": [
    "I now use max_length to build a tokenizer that truncates each tweet to `max_length` and adds padding accordingly."
   ]
  },
  {
   "cell_type": "code",
   "execution_count": 17,
   "metadata": {},
   "outputs": [],
   "source": [
    "def tokenize_map(tweets, lab=False):\n",
    "    \n",
    "    input_ids = []\n",
    "    attention_masks = []\n",
    "    \n",
    "    for tweet in range(len(tweets)):\n",
    "        encoded_dict = tokenizer.encode_plus(\n",
    "            tweets.text[tweet],\n",
    "            add_special_tokens=True,\n",
    "            truncation='longest_first',\n",
    "            max_length=100,\n",
    "            pad_to_max_length=True,\n",
    "            return_attention_mask=True,\n",
    "            return_tensors='pt')\n",
    "        \n",
    "        input_ids.append(encoded_dict['input_ids'])\n",
    "        attention_masks.append(encoded_dict['attention_mask']) # attention mask distinguishes padding from non-padding\n",
    "    \n",
    "    input_ids = torch.cat(input_ids, dim=0)\n",
    "    attention_masks = torch.cat(attention_masks, dim=0)\n",
    "    \n",
    "    if lab is True:\n",
    "        labels = train_ds.labels\n",
    "        return input_ids, attention_masks, labels\n",
    "    \n",
    "    else:\n",
    "        return input_ids, attention_masks"
   ]
  },
  {
   "cell_type": "code",
   "execution_count": 18,
   "metadata": {},
   "outputs": [],
   "source": [
    "input_ids, attention_masks, labels = tokenize_map(train_ds, lab=True)"
   ]
  },
  {
   "cell_type": "code",
   "execution_count": 19,
   "metadata": {},
   "outputs": [
    {
     "data": {
      "text/plain": [
       "(torch.Size([33444, 100]), torch.Size([33444, 100]), (33444,))"
      ]
     },
     "execution_count": 19,
     "metadata": {},
     "output_type": "execute_result"
    }
   ],
   "source": [
    "input_ids.shape, attention_masks.shape, labels.shape"
   ]
  },
  {
   "cell_type": "code",
   "execution_count": 20,
   "metadata": {},
   "outputs": [],
   "source": [
    "test_input_ids, test_attention_masks = tokenize_map(test_ds, lab=False)"
   ]
  },
  {
   "cell_type": "code",
   "execution_count": 21,
   "metadata": {},
   "outputs": [
    {
     "data": {
      "text/plain": [
       "(torch.Size([3179, 100]), torch.Size([3179, 100]))"
      ]
     },
     "execution_count": 21,
     "metadata": {},
     "output_type": "execute_result"
    }
   ],
   "source": [
    "test_input_ids.shape, test_attention_masks.shape"
   ]
  },
  {
   "cell_type": "markdown",
   "metadata": {},
   "source": [
    "I now build an updated Dataset class that includes tokenization."
   ]
  },
  {
   "cell_type": "code",
   "execution_count": 22,
   "metadata": {},
   "outputs": [],
   "source": [
    "class TweetDataset(Dataset):\n",
    "    \n",
    "    def __init__(self, input_ids, attention_masks, labels):\n",
    "        self.input_ids = input_ids\n",
    "        self.attention_masks = attention_masks\n",
    "        self.labels = labels\n",
    "        \n",
    "    def __len__(self):\n",
    "        return len(self.input_ids)\n",
    "    \n",
    "    def __getitem__(self, idx):\n",
    "        return (self.input_ids[idx], self.attention_masks[idx], self.labels[idx])"
   ]
  },
  {
   "cell_type": "code",
   "execution_count": 23,
   "metadata": {},
   "outputs": [
    {
     "name": "stdout",
     "output_type": "stream",
     "text": [
      "26755 6689\n"
     ]
    }
   ],
   "source": [
    "dataset = TweetDataset(input_ids, attention_masks, labels)\n",
    "\n",
    "train_size = int(0.8 * len(train_ds))\n",
    "val_size = len(train_ds) - train_size\n",
    "\n",
    "train_dataset, val_dataset = random_split(dataset, [train_size, val_size])\n",
    "\n",
    "print(len(train_dataset), len(val_dataset))"
   ]
  },
  {
   "cell_type": "markdown",
   "metadata": {},
   "source": [
    "I also split the training data into a training and validation dataset and put them into a dataloader."
   ]
  },
  {
   "cell_type": "code",
   "execution_count": 24,
   "metadata": {},
   "outputs": [],
   "source": [
    "batch_size = 16\n",
    "\n",
    "train_dl = DataLoader(train_dataset,\n",
    "                     sampler=RandomSampler(train_dataset),\n",
    "                     batch_size=batch_size)\n",
    "val_dl = DataLoader(val_dataset,\n",
    "                   sampler=SequentialSampler(val_dataset),\n",
    "                   batch_size=batch_size)"
   ]
  },
  {
   "cell_type": "code",
   "execution_count": 25,
   "metadata": {},
   "outputs": [],
   "source": [
    "test_dataset = TensorDataset(test_input_ids, test_attention_masks)\n",
    "\n",
    "test_dl = DataLoader(test_dataset, \n",
    "                     sampler=SequentialSampler(test_dataset), \n",
    "                     batch_size=batch_size)"
   ]
  },
  {
   "cell_type": "markdown",
   "metadata": {},
   "source": [
    "# Building a Model with BERT"
   ]
  },
  {
   "cell_type": "markdown",
   "metadata": {},
   "source": [
    "I choose to use BERT as the pre-trained model for this project, since it is probably the most well-known transformer model and applicable to many different NLP tasks. Specifically, I import `BertForSequenceClassification`, since the task at hand is a binary classification problem of tweets."
   ]
  },
  {
   "cell_type": "code",
   "execution_count": 60,
   "metadata": {},
   "outputs": [],
   "source": [
    "model = BertForSequenceClassification.from_pretrained('bert-base-uncased', # imports pretrained BERT model with linear classification layer on top\n",
    "                                                     num_labels=2) # two labels for binary classification"
   ]
  },
  {
   "cell_type": "code",
   "execution_count": 27,
   "metadata": {},
   "outputs": [
    {
     "name": "stdout",
     "output_type": "stream",
     "text": [
      "Number of parameters of BERT model: 201\n"
     ]
    }
   ],
   "source": [
    "params = list(model.named_parameters())\n",
    "print('Number of parameters of BERT model:', len(params))"
   ]
  },
  {
   "cell_type": "code",
   "execution_count": 61,
   "metadata": {},
   "outputs": [],
   "source": [
    "optimizer = AdamW(model.parameters())"
   ]
  },
  {
   "cell_type": "code",
   "execution_count": 30,
   "metadata": {},
   "outputs": [],
   "source": [
    "def flat_accuracy(preds, labels):\n",
    "    preds_flat = np.argmax(preds, axis=1).flatten()\n",
    "    labels_flat = labels.flatten()\n",
    "    return accuracy_score(labels_flat, preds_flat)\n",
    "\n",
    "def flat_f1(preds, labels):\n",
    "    preds_flat = np.argmax(preds, axis=1).flatten()\n",
    "    labels_flat = labels.flatten()\n",
    "    return f1_score(labels_flat, preds_flat)"
   ]
  },
  {
   "cell_type": "code",
   "execution_count": 31,
   "metadata": {},
   "outputs": [],
   "source": [
    "def format_time(elapsed):\n",
    "    elapsed_rounded = int(round((elapsed)))\n",
    "    return str(timedelta(seconds=elapsed_rounded))"
   ]
  },
  {
   "cell_type": "code",
   "execution_count": 62,
   "metadata": {},
   "outputs": [],
   "source": [
    "def train(model, train_dl, val_dl, epochs):\n",
    "    \n",
    "    training_stats = []\n",
    "    total_t0 = time.time() # to measure total training time\n",
    "    \n",
    "    model.to(device)\n",
    "    \n",
    "    optimizer = AdamW(model.parameters())\n",
    "\n",
    "    for epoch in range(epochs):\n",
    "        \n",
    "        print('')\n",
    "        print(f'########## Epoch {epoch + 1} of {epochs} ##########')\n",
    "        print('Training...')\n",
    "        \n",
    "        t0 = time.time() # to measure training time of this epoch\n",
    "        \n",
    "        total_train_loss = 0\n",
    "        total_train_accuracy_estim = 0\n",
    "        \n",
    "        # put model into training mode\n",
    "        model.train()\n",
    "\n",
    "        for step, batch in enumerate(train_dl):\n",
    "\n",
    "            # get data of batch and put it on gpu\n",
    "            b_input_ids = batch[0].to(device).to(torch.int64)\n",
    "            b_attention_mask = batch[1].to(device).to(torch.int64)\n",
    "            b_labels = batch[2].to(device).to(torch.int64)\n",
    "\n",
    "            model.zero_grad()\n",
    "            loss, logits = model(b_input_ids, # logits: output values before applying activation function\n",
    "                                attention_mask=b_attention_mask,\n",
    "                                labels=b_labels)\n",
    "            total_train_loss += loss.item()\n",
    "            loss.backward()\n",
    "            torch.nn.utils.clip_grad_norm_(model.parameters(), 1.0)\n",
    "            optimizer.step()\n",
    "\n",
    "            #print accuarcy every 50 batches\n",
    "            if step % 50 == 0 and not step == 0:\n",
    "                elapsed = format_time(time.time() - t0)\n",
    "                #print(f'Batch {step} of {len(train_dl)}. Elapsed {elapsed}')\n",
    "                \n",
    "                label_ids = b_labels.to('cpu').numpy()\n",
    "                logits = logits.detach().cpu().numpy()\n",
    "                \n",
    "                acc = flat_accuracy(logits, label_ids)\n",
    "                total_train_accuracy_estim += acc\n",
    "                \n",
    "                #print(f'Accuracy: {acc}') # accuracy for this batch\n",
    "                #print('________________________________________')\n",
    "\n",
    "        avg_train_loss = total_train_loss / len(train_dl)\n",
    "        avg_train_accuracy = total_train_accuracy_estim / (len(train_dl) / 50)\n",
    "        training_time = format_time(time.time() - t0)\n",
    "\n",
    "        print(f'Training Accuracy: {avg_train_accuracy:.2f}') # avg accuracy for this epoch\n",
    "        print(f'Training Loss: {avg_train_loss:.2f}') # avg loss for this epoch\n",
    "        print(f'Training took {training_time}')\n",
    "\n",
    "        print('')\n",
    "        print('Validation...')\n",
    "\n",
    "        t0 = time.time()\n",
    "        \n",
    "        # put model into evaluation mode\n",
    "        model.eval()\n",
    "\n",
    "        total_eval_accuracy = 0\n",
    "        total_eval_loss = 0\n",
    "        nb_eval_steps = 0\n",
    "\n",
    "        for batch in val_dl:\n",
    "\n",
    "            # get data of batch and put it on gpu\n",
    "            b_input_ids = batch[0].to(device)\n",
    "            b_attention_mask = batch[1].to(device)\n",
    "            b_labels = batch[2].to(device)\n",
    "\n",
    "            with torch.no_grad():\n",
    "                (loss, logits) = model(b_input_ids, \n",
    "                                       token_type_ids=None, \n",
    "                                       attention_mask=b_attention_mask,\n",
    "                                       labels=b_labels)\n",
    "            total_eval_loss += loss.item()\n",
    "            \n",
    "            logits = logits.detach().cpu().numpy()\n",
    "            label_ids = b_labels.to('cpu').numpy()\n",
    "            total_eval_accuracy += flat_accuracy(logits, label_ids)\n",
    "\n",
    "        avg_val_accuracy = total_eval_accuracy / len(val_dl)\n",
    "        print(f'Validation Accuracy: {avg_val_accuracy:.2f}') # avg accuracy for this epoch\n",
    "        avg_val_f1 = total_eval_f1 / len(val_dl)\n",
    "        avg_val_loss = total_eval_loss / len(val_dl)\n",
    "        validation_time = format_time(time.time() - t0)\n",
    "\n",
    "        print(f'Validation Loss: {avg_val_loss:.2f}') # avg loss for this epoch\n",
    "        print(f'Validation took: {validation_time}')\n",
    "\n",
    "        training_stats.append(\n",
    "            {'Epoch': epoch + 1,\n",
    "            'Training Loss': avg_train_loss,\n",
    "            'Validation Loss': avg_val_loss,\n",
    "            'Validation Accuracy': avg_val_accuracy,\n",
    "            'Training Time': training_time,\n",
    "            'Validation Time': validation_time})\n",
    "\n",
    "    print('')\n",
    "    print('Training complete!')\n",
    "    print(f'Total training took {format_time(time.time()-total_t0)} (h:mm:ss)')\n",
    "\n",
    "    return training_stats"
   ]
  },
  {
   "cell_type": "markdown",
   "metadata": {},
   "source": [
    "Let's train the model!"
   ]
  },
  {
   "cell_type": "code",
   "execution_count": 64,
   "metadata": {},
   "outputs": [
    {
     "name": "stdout",
     "output_type": "stream",
     "text": [
      "\n",
      "########## Epoch 1 of 5 ##########\n",
      "Training...\n",
      "Training Accuracy: 0.51\n",
      "Training Loss: 0.74\n",
      "Training took 0:05:04\n",
      "\n",
      "Validation...\n",
      "Validation Accuracy: 0.53\n",
      "Validation Loss: 0.69\n",
      "Validation took: 0:00:22\n",
      "\n",
      "########## Epoch 2 of 5 ##########\n",
      "Training...\n",
      "Training Accuracy: 0.49\n",
      "Training Loss: 0.74\n",
      "Training took 0:05:03\n",
      "\n",
      "Validation...\n",
      "Validation Accuracy: 0.47\n",
      "Validation Loss: 0.69\n",
      "Validation took: 0:00:22\n",
      "\n",
      "########## Epoch 3 of 5 ##########\n",
      "Training...\n",
      "Training Accuracy: 0.49\n",
      "Training Loss: 0.73\n",
      "Training took 0:05:03\n",
      "\n",
      "Validation...\n",
      "Validation Accuracy: 0.47\n",
      "Validation Loss: 0.71\n",
      "Validation took: 0:00:22\n",
      "\n",
      "########## Epoch 4 of 5 ##########\n",
      "Training...\n",
      "Training Accuracy: 0.51\n",
      "Training Loss: 0.72\n",
      "Training took 0:05:03\n",
      "\n",
      "Validation...\n",
      "Validation Accuracy: 0.53\n",
      "Validation Loss: 0.69\n",
      "Validation took: 0:00:22\n",
      "\n",
      "########## Epoch 5 of 5 ##########\n",
      "Training...\n",
      "Training Accuracy: 0.51\n",
      "Training Loss: 0.70\n",
      "Training took 0:05:03\n",
      "\n",
      "Validation...\n",
      "Validation Accuracy: 0.53\n",
      "Validation Loss: 0.69\n",
      "Validation took: 0:00:22\n",
      "\n",
      "Training complete!\n",
      "Total training took 0:27:03 (h:mm:ss)\n"
     ]
    }
   ],
   "source": [
    "stats = train(model, train_dl, val_dl, 5)"
   ]
  },
  {
   "cell_type": "markdown",
   "metadata": {},
   "source": [
    "In order to have a better overview of the trainings stats, I put them into a dataframe..."
   ]
  },
  {
   "cell_type": "code",
   "execution_count": 69,
   "metadata": {},
   "outputs": [
    {
     "data": {
      "text/html": [
       "<div>\n",
       "<style scoped>\n",
       "    .dataframe tbody tr th:only-of-type {\n",
       "        vertical-align: middle;\n",
       "    }\n",
       "\n",
       "    .dataframe tbody tr th {\n",
       "        vertical-align: top;\n",
       "    }\n",
       "\n",
       "    .dataframe thead th {\n",
       "        text-align: right;\n",
       "    }\n",
       "</style>\n",
       "<table border=\"1\" class=\"dataframe\">\n",
       "  <thead>\n",
       "    <tr style=\"text-align: right;\">\n",
       "      <th></th>\n",
       "      <th>Training Loss</th>\n",
       "      <th>Validation Loss</th>\n",
       "      <th>Validation Accuracy</th>\n",
       "      <th>Training Time</th>\n",
       "      <th>Validation Time</th>\n",
       "    </tr>\n",
       "    <tr>\n",
       "      <th>Epoch</th>\n",
       "      <th></th>\n",
       "      <th></th>\n",
       "      <th></th>\n",
       "      <th></th>\n",
       "      <th></th>\n",
       "    </tr>\n",
       "  </thead>\n",
       "  <tbody>\n",
       "    <tr>\n",
       "      <th>1</th>\n",
       "      <td>0.74</td>\n",
       "      <td>0.69</td>\n",
       "      <td>0.53</td>\n",
       "      <td>0:05:04</td>\n",
       "      <td>0:00:22</td>\n",
       "    </tr>\n",
       "    <tr>\n",
       "      <th>2</th>\n",
       "      <td>0.74</td>\n",
       "      <td>0.69</td>\n",
       "      <td>0.47</td>\n",
       "      <td>0:05:03</td>\n",
       "      <td>0:00:22</td>\n",
       "    </tr>\n",
       "    <tr>\n",
       "      <th>3</th>\n",
       "      <td>0.73</td>\n",
       "      <td>0.71</td>\n",
       "      <td>0.47</td>\n",
       "      <td>0:05:03</td>\n",
       "      <td>0:00:22</td>\n",
       "    </tr>\n",
       "    <tr>\n",
       "      <th>4</th>\n",
       "      <td>0.72</td>\n",
       "      <td>0.69</td>\n",
       "      <td>0.53</td>\n",
       "      <td>0:05:03</td>\n",
       "      <td>0:00:22</td>\n",
       "    </tr>\n",
       "    <tr>\n",
       "      <th>5</th>\n",
       "      <td>0.70</td>\n",
       "      <td>0.69</td>\n",
       "      <td>0.53</td>\n",
       "      <td>0:05:03</td>\n",
       "      <td>0:00:22</td>\n",
       "    </tr>\n",
       "  </tbody>\n",
       "</table>\n",
       "</div>"
      ],
      "text/plain": [
       "       Training Loss  Validation Loss  Validation Accuracy Training Time  \\\n",
       "Epoch                                                                      \n",
       "1               0.74             0.69                 0.53       0:05:04   \n",
       "2               0.74             0.69                 0.47       0:05:03   \n",
       "3               0.73             0.71                 0.47       0:05:03   \n",
       "4               0.72             0.69                 0.53       0:05:03   \n",
       "5               0.70             0.69                 0.53       0:05:03   \n",
       "\n",
       "      Validation Time  \n",
       "Epoch                  \n",
       "1             0:00:22  \n",
       "2             0:00:22  \n",
       "3             0:00:22  \n",
       "4             0:00:22  \n",
       "5             0:00:22  "
      ]
     },
     "execution_count": 69,
     "metadata": {},
     "output_type": "execute_result"
    }
   ],
   "source": [
    "pd.set_option('precision', 2)\n",
    "df_stats = pd.DataFrame(stats)\n",
    "df_stats = df_stats.set_index('Epoch')\n",
    "df_stats"
   ]
  },
  {
   "cell_type": "markdown",
   "metadata": {},
   "source": [
    "... and plot the learning curve."
   ]
  },
  {
   "cell_type": "code",
   "execution_count": 70,
   "metadata": {},
   "outputs": [
    {
     "data": {
      "image/png": "[encoded data removed]",
      "text/plain": [
       "<Figure size 864x576 with 1 Axes>"
      ]
     },
     "metadata": {
      "needs_background": "light"
     },
     "output_type": "display_data"
    }
   ],
   "source": [
    "fig, axes = plt.subplots(figsize=(12, 8))\n",
    "plt.plot(df_stats['Training Loss'], label = 'Training')\n",
    "plt.plot(df_stats['Validation Loss'], label = 'Validation')\n",
    "plt.title('Training and Validation Loss')\n",
    "plt.xlabel('Epoch')\n",
    "plt.ylabel('Loss')\n",
    "plt.xticks([1,2,3,4,5])\n",
    "plt.legend()\n",
    "plt.show()"
   ]
  },
  {
   "cell_type": "markdown",
   "metadata": {},
   "source": [
    "This learning curve seems a little bid odd, so my next step will be to inspect the stats and find out why my model outputs these results. \n",
    "\n",
    "To be continued..."
   ]
  },
  {
   "cell_type": "code",
   "execution_count": null,
   "metadata": {},
   "outputs": [],
   "source": []
  }
 ],
 "metadata": {
  "kernelspec": {
   "display_name": "Python 3",
   "language": "python",
   "name": "python3"
  },
  "language_info": {
   "codemirror_mode": {
    "name": "ipython",
    "version": 3
   },
   "file_extension": ".py",
   "mimetype": "text/x-python",
   "name": "python",
   "nbconvert_exporter": "python",
   "pygments_lexer": "ipython3",
   "version": "3.7.3"
  }
 },
 "nbformat": 4,
 "nbformat_minor": 4
}
