{
  "nbformat": 4,
  "nbformat_minor": 0,
  "metadata": {
    "accelerator": "GPU",
    "colab": {
      "name": "covid-19_tweet_lstm.ipynb",
      "provenance": [],
      "collapsed_sections": [
        "jdqxKuTV1LUe",
        "HeFe8FHtND3z"
      ],
      "include_colab_link": true
    },
    "kernelspec": {
      "display_name": "Python 3",
      "language": "python",
      "name": "python3"
    },
    "language_info": {
      "codemirror_mode": {
        "name": "ipython",
        "version": 3
      },
      "file_extension": ".py",
      "mimetype": "text/x-python",
      "name": "python",
      "nbconvert_exporter": "python",
      "pygments_lexer": "ipython3",
      "version": "3.7.3"
    }
  },
  "cells": [
    {
      "cell_type": "markdown",
      "metadata": {
        "id": "view-in-github",
        "colab_type": "text"
      },
      "source": [
        "<a href=\"https://colab.research.google.com/github/HeleneFabia/covid-19-tweet-sentiment-analysis/blob/master/covid_19_tweet_lstm.ipynb\" target=\"_parent\"><img src=\"https://colab.research.google.com/assets/colab-badge.svg\" alt=\"Open In Colab\"/></a>"
      ]
    },
    {
      "cell_type": "markdown",
      "metadata": {
        "id": "NlLDfLtXND2E"
      },
      "source": [
        "# COVID-19 Tweet Sentiment Analysis: LSTM\n",
        "\n",
        "The goal of this project is to classify tweets about COVID-19 into positive sentiment and negative emotion. This project also serves to make myself more familiar with state-of-the-art NLP models."
      ]
    },
    {
      "cell_type": "markdown",
      "metadata": {
        "id": "v4Q6M9mTND2I"
      },
      "source": [
        "## Importing and preprocessing the data"
      ]
    },
    {
      "cell_type": "code",
      "metadata": {
        "_cell_guid": "b1076dfc-b9ad-4769-8c92-a6c4dae69d19",
        "_uuid": "8f2839f25d086af736a60e9eeb907d3b93b6e0e5",
        "id": "GWmGv_tuND2Q"
      },
      "source": [
        "import numpy as np \n",
        "import matplotlib.pyplot as plt\n",
        "import pandas as pd \n",
        "pd.set_option('display.max_colwidth', 500)\n",
        "\n",
        "import torch\n",
        "import torch.nn as nn\n",
        "from torch.utils.data import Dataset, DataLoader, TensorDataset\n",
        "from torch.nn import functional as F\n",
        "\n",
        "import re\n",
        "import os\n",
        "import time\n",
        "import gc\n",
        "from tqdm.notebook import tqdm_notebook as tqdm\n",
        "\n",
        "from keras.preprocessing import text, sequence\n",
        "\n",
        "import sklearn.metrics\n",
        "from sklearn.metrics import accuracy_score, roc_curve, roc_auc_score\n",
        "\n",
        "import shutil\n",
        "import logging\n",
        "\n",
        "import random\n",
        "seed_val = 42\n",
        "random.seed(seed_val)\n",
        "np.random.seed(seed_val)\n",
        "torch.manual_seed(seed_val)\n",
        "torch.cuda.manual_seed_all(seed_val)"
      ],
      "execution_count": 1,
      "outputs": []
    },
    {
      "cell_type": "code",
      "metadata": {
        "id": "cz7LEW4FND2j",
        "outputId": "dfcf58e4-d835-4e18-e770-8c0a604dc07d",
        "colab": {
          "base_uri": "https://localhost:8080/",
          "height": 34
        }
      },
      "source": [
        "if torch.cuda.is_available():\n",
        "    device = torch.device('cuda')\n",
        "else:\n",
        "    device = torch.device('cpu')\n",
        "print(device)"
      ],
      "execution_count": 2,
      "outputs": [
        {
          "output_type": "stream",
          "text": [
            "cuda\n"
          ],
          "name": "stdout"
        }
      ]
    },
    {
      "cell_type": "markdown",
      "metadata": {
        "id": "jdqxKuTV1LUe"
      },
      "source": [
        "## Import"
      ]
    },
    {
      "cell_type": "code",
      "metadata": {
        "id": "PlHEkmEnfoWQ",
        "outputId": "a8215296-0eb5-4a8a-f79f-f1ec79217bfb",
        "colab": {
          "base_uri": "https://localhost:8080/",
          "height": 34
        }
      },
      "source": [
        "from google.colab import drive\n",
        "drive.mount('/content/drive')"
      ],
      "execution_count": 3,
      "outputs": [
        {
          "output_type": "stream",
          "text": [
            "Mounted at /content/drive\n"
          ],
          "name": "stdout"
        }
      ]
    },
    {
      "cell_type": "code",
      "metadata": {
        "id": "gOagxJcdf8VT"
      },
      "source": [
        "import os\n",
        "os.environ['KAGGLE_CONFIG_DIR'] = \"/content/gdrive/My Drive/Kaggle\""
      ],
      "execution_count": 5,
      "outputs": []
    },
    {
      "cell_type": "code",
      "metadata": {
        "id": "REbxJhnWND26"
      },
      "source": [
        "train = pd.read_csv('/content/drive/My Drive/Kaggle/COVID-19_Sentiment_Analysis/Corona_NLP_train.csv', encoding='latin1')\n",
        "test = pd.read_csv('/content/drive/My Drive/Kaggle/COVID-19_Sentiment_Analysis/Corona_NLP_test.csv', encoding='latin1')"
      ],
      "execution_count": 7,
      "outputs": []
    },
    {
      "cell_type": "code",
      "metadata": {
        "id": "5-QFaqCcND3E",
        "outputId": "2df275e8-d5f2-4dc8-8aee-3716110a642b",
        "colab": {
          "base_uri": "https://localhost:8080/",
          "height": 68
        }
      },
      "source": [
        "train.columns"
      ],
      "execution_count": 8,
      "outputs": [
        {
          "output_type": "execute_result",
          "data": {
            "text/plain": [
              "Index(['UserName', 'ScreenName', 'Location', 'TweetAt', 'OriginalTweet',\n",
              "       'Sentiment'],\n",
              "      dtype='object')"
            ]
          },
          "metadata": {
            "tags": []
          },
          "execution_count": 8
        }
      ]
    },
    {
      "cell_type": "markdown",
      "metadata": {
        "id": "ZPd1LbfaND3O"
      },
      "source": [
        "\n",
        "As we can see, the data includes the Twitter username, their location, the date the tweet was posted, the text of the tweet and the corresponding label (extremely negative, negative, neutral, positive, extremely positive).\n",
        "\n",
        "Since I do not want the project to be too complex, I decide to only work with the text data and omit the rest of the columns. To further simply the task at hand, I decide to turn the problem from a multiclass classification problem into a binary classification problem. As such, I drop the tweets labeled as neutral and merge the classes 'Positive' and 'Extremely Positive', and 'Negative' and 'Extremely Negative'.\n",
        "\n",
        "For the model to be able to process the labels, I turn them into numerical labels (0 for negative, 1 for positive)."
      ]
    },
    {
      "cell_type": "code",
      "metadata": {
        "id": "k6D9ogggND3Q"
      },
      "source": [
        "train = train[['OriginalTweet', 'Sentiment']]\n",
        "test = test[['OriginalTweet', 'Sentiment']]\n",
        "\n",
        "train = train[train.Sentiment != 'Neutral']\n",
        "test = test[test.Sentiment != 'Neutral']\n",
        "\n",
        "label2idx = {'Extremely Negative': 0, \n",
        "            'Negative': 0,\n",
        "            'Positive': 1,\n",
        "            'Extremely Positive': 1}\n",
        "\n",
        "train['Sentiment'] = train['Sentiment'].replace(label2idx)\n",
        "test['Sentiment'] = test['Sentiment'].replace(label2idx)"
      ],
      "execution_count": 9,
      "outputs": []
    },
    {
      "cell_type": "markdown",
      "metadata": {
        "id": "ztjiMiLLND3Z"
      },
      "source": [
        "I then build a function that removes any punctuation, emojis and urls."
      ]
    },
    {
      "cell_type": "code",
      "metadata": {
        "id": "6lZmIC4NND3b"
      },
      "source": [
        "def preprocess(data):\n",
        "    \n",
        "    \"\"\"Removes punctuation, emojis and urls form a text.\"\"\"\n",
        "    \n",
        "    punct = \"/-'?!.,#$%\\'()*+-/:;<=>@[\\\\]^_`{|}~`\" + '\"\"“”’' + '∞θ÷α•à−β∅³π‘₹´°£€\\×™√²—–&'\n",
        "    \n",
        "    def clean_special_chars(text, punct):\n",
        "        for p in punct:\n",
        "            text = text.replace(p, ' ')\n",
        "        return text\n",
        "    \n",
        "    def remove_url(text):\n",
        "        return re.sub(r'https?:\\/\\/\\S+|www\\.\\S+', '', text)\n",
        "\n",
        "    def remove_emoji(text):\n",
        "        emoji_pattern = re.compile(\n",
        "            '['\n",
        "            u'\\U0001F600-\\U0001F64F' \n",
        "            u'\\U0001F300-\\U0001F5FF'  \n",
        "            u'\\U0001F680-\\U0001F6FF' \n",
        "            u'\\U0001F1E0-\\U0001F1FF'\n",
        "            u'\\U00002702-\\U000027B0'\n",
        "            u'\\U000024C2-\\U0001F251'\n",
        "            ']+',\n",
        "            flags=re.UNICODE)\n",
        "        return emoji_pattern.sub(r'', text)\n",
        "\n",
        "            \n",
        "    data = data.astype(str).apply(lambda x: clean_special_chars(x, punct))\n",
        "    data = data.astype(str).apply(lambda x: remove_url(x))\n",
        "    data = data.astype(str).apply(lambda x: remove_emoji(x))\n",
        "    \n",
        "    return data"
      ],
      "execution_count": 10,
      "outputs": []
    },
    {
      "cell_type": "code",
      "metadata": {
        "id": "-xlnw7ptND3k"
      },
      "source": [
        "x_train = preprocess(train['OriginalTweet'])\n",
        "y_train = train['Sentiment']\n",
        "x_test = preprocess(test['OriginalTweet'])\n",
        "y_test = test['Sentiment']"
      ],
      "execution_count": 11,
      "outputs": []
    },
    {
      "cell_type": "code",
      "metadata": {
        "id": "G9YkDc34ND3t",
        "outputId": "b9844dc5-bdc5-4a79-8ba0-15274c740247",
        "colab": {
          "base_uri": "https://localhost:8080/",
          "height": 85
        }
      },
      "source": [
        "x_train.sample(3)"
      ],
      "execution_count": 12,
      "outputs": [
        {
          "output_type": "execute_result",
          "data": {
            "text/plain": [
              "30196                      US death toll is way less than estimated  This I hope will bring back consumer confidence  coronavirus  Covid 19  CoronavirusUSA\n",
              "13325                                  We will get through this by people helping people and not stock piling food and toiletries  selfish pricks  Covid 19\n",
              "14622     rice prices soar to two year high  traders blame it on  coronavirus panic buying  writes  YasirWardad https   t co hIXzS1DKdo  FE via  febdonline\n",
              "Name: OriginalTweet, dtype: object"
            ]
          },
          "metadata": {
            "tags": []
          },
          "execution_count": 12
        }
      ]
    },
    {
      "cell_type": "markdown",
      "metadata": {
        "id": "HeFe8FHtND3z"
      },
      "source": [
        "## Word embeddings with GloVe"
      ]
    },
    {
      "cell_type": "markdown",
      "metadata": {
        "id": "DH9kDaewND31"
      },
      "source": [
        "I decided to use pretrained GloVe embeddings and tokenize the tweets with the Keras Tokenizer."
      ]
    },
    {
      "cell_type": "markdown",
      "metadata": {
        "id": "osVm68GBND33"
      },
      "source": [
        "The Keras tokenizer creates a vocabulary with all the tokens in a text and assigns an index to each tolen according to its frequency in the text. Next, it transforms the text into a sequence of word indices which can then be used as an input for a model."
      ]
    },
    {
      "cell_type": "code",
      "metadata": {
        "id": "RlRLN-1UND35"
      },
      "source": [
        "tokenizer = text.Tokenizer() # instantiate tokenizer class\n",
        "tokenizer.fit_on_texts(list(x_train) + list(x_test)) # create vocab\n",
        "\n",
        "x_train = tokenizer.texts_to_sequences(x_train) # transforms training tweets into sequences of word indices\n",
        "x_test = tokenizer.texts_to_sequences(x_test) # transforms test tweets into sequences of word indices\n",
        "\n",
        "SEQ_LEN = 110\n",
        "x_train = sequence.pad_sequences(x_train, maxlen=SEQ_LEN, padding='post') # add padding up to SEQ_LEN\n",
        "x_test = sequence.pad_sequences(x_test, maxlen=SEQ_LEN, padding='post')"
      ],
      "execution_count": 13,
      "outputs": []
    },
    {
      "cell_type": "markdown",
      "metadata": {
        "id": "9Lwju8gcND4A"
      },
      "source": [
        "Here's the first tweet in the training set represented as indices (according to the respective token in the vocab)."
      ]
    },
    {
      "cell_type": "code",
      "metadata": {
        "id": "8E5M7R8bND4B",
        "scrolled": false,
        "outputId": "1ec815ec-0d2a-409b-b1a3-a7227e0c62a5",
        "colab": {
          "base_uri": "https://localhost:8080/",
          "height": 238
        }
      },
      "source": [
        "x_train[0]"
      ],
      "execution_count": 14,
      "outputs": [
        {
          "output_type": "execute_result",
          "data": {
            "text/plain": [
              "array([  570,   977,     2,    39,  2383,   268,     2,  2741,   881,\n",
              "        1316,  1036,   435,   445,    26,   881,  1316,     6,  2383,\n",
              "         897,  3827,  3540,  4994,   554,    47,    58,    57,  2557,\n",
              "          51, 22852,  3131,   176,     6,  1055,  2337,    53,    40,\n",
              "         110,   259,     0,     0,     0,     0,     0,     0,     0,\n",
              "           0,     0,     0,     0,     0,     0,     0,     0,     0,\n",
              "           0,     0,     0,     0,     0,     0,     0,     0,     0,\n",
              "           0,     0,     0,     0,     0,     0,     0,     0,     0,\n",
              "           0,     0,     0,     0,     0,     0,     0,     0,     0,\n",
              "           0,     0,     0,     0,     0,     0,     0,     0,     0,\n",
              "           0,     0,     0,     0,     0,     0,     0,     0,     0,\n",
              "           0,     0,     0,     0,     0,     0,     0,     0,     0,\n",
              "           0,     0], dtype=int32)"
            ]
          },
          "metadata": {
            "tags": []
          },
          "execution_count": 14
        }
      ]
    },
    {
      "cell_type": "markdown",
      "metadata": {
        "id": "lXjXcrH-ND4W"
      },
      "source": [
        "I then build an embedding matrix with the pretrained word vectors. Please have a look at the scrip `glove_embedding.py` to see the code for loading the GloVe embeddings. \n",
        "\n",
        "In this notebook here, I simply load the embedding matrix I saved previously."
      ]
    },
    {
      "cell_type": "code",
      "metadata": {
        "id": "fgsXyvcAhWgX"
      },
      "source": [
        "glove_matrix, unknown_words = torch.load('/content/drive/My Drive/Kaggle/COVID-19_Sentiment_Analysis/glove_embedding.pt')"
      ],
      "execution_count": 20,
      "outputs": []
    },
    {
      "cell_type": "markdown",
      "metadata": {
        "id": "0EzCOaclND4q"
      },
      "source": [
        "Lastly, I convert the training and test set into torch tensors, put them into a Dataset and split the training set to obtain a validation set."
      ]
    },
    {
      "cell_type": "code",
      "metadata": {
        "id": "ffhqBcSdND4r"
      },
      "source": [
        "x_train_torch = torch.tensor(x_train, dtype=torch.long).to(device)\n",
        "y_train_torch = torch.tensor(y_train.values, dtype=torch.long).to(device)\n",
        "\n",
        "x_test_torch = torch.tensor(x_test, dtype=torch.long).to(device)\n",
        "y_test_torch = torch.tensor(y_test.values, dtype=torch.long).to(device)"
      ],
      "execution_count": 21,
      "outputs": []
    },
    {
      "cell_type": "code",
      "metadata": {
        "id": "2O2vuqmKND4x",
        "outputId": "38b02a52-b888-4d0a-f0ec-a89b0461304f",
        "colab": {
          "base_uri": "https://localhost:8080/",
          "height": 85
        }
      },
      "source": [
        "x_train_torch.shape, x_test_torch.shape, y_train_torch.shape, y_test_torch.shape"
      ],
      "execution_count": 22,
      "outputs": [
        {
          "output_type": "execute_result",
          "data": {
            "text/plain": [
              "(torch.Size([33444, 110]),\n",
              " torch.Size([3179, 110]),\n",
              " torch.Size([33444]),\n",
              " torch.Size([3179]))"
            ]
          },
          "metadata": {
            "tags": []
          },
          "execution_count": 22
        }
      ]
    },
    {
      "cell_type": "code",
      "metadata": {
        "id": "0K2elRF1ND42"
      },
      "source": [
        "train_dataset = TensorDataset(x_train_torch, y_train_torch)\n",
        "test_set = TensorDataset(x_test_torch, y_test_torch)\n",
        "\n",
        "train_set, val_set = torch.utils.data.random_split(train_dataset, [26755, 6689])"
      ],
      "execution_count": 23,
      "outputs": []
    },
    {
      "cell_type": "markdown",
      "metadata": {
        "id": "HbX-acAaND49"
      },
      "source": [
        "## Model"
      ]
    },
    {
      "cell_type": "markdown",
      "metadata": {
        "id": "wtatmRbpND49"
      },
      "source": [
        "It's time to build a neural net. Here, I build a classifier model with two bidirectional LSTM layers and two fully connected layers."
      ]
    },
    {
      "cell_type": "code",
      "metadata": {
        "id": "aFtt1YPIND4-"
      },
      "source": [
        "class Dropout(nn.Dropout2d):\n",
        "    def forward(self, x):\n",
        "        x = x.unsqueeze(2)\n",
        "        x = x.permute(0, 3, 2, 1)\n",
        "        x = super().forward(x)\n",
        "        x = x.permute(0, 3, 2, 1)\n",
        "        x = x.squeeze(2)\n",
        "        return x\n",
        "    \n",
        "class LSTM_Classifier(nn.Module):\n",
        "    \n",
        "    def __init__(self, vocab_size, embedding_dim, hidden_dim, output_dim, embedding_matrix, dropout_p):\n",
        "        super().__init__()\n",
        "        \n",
        "        self.vocab_size = vocab_size\n",
        "        self.embedding_dim = embedding_dim\n",
        "        self.hidden_dim = hidden_dim\n",
        "        self.output_dim = output_dim\n",
        "        \n",
        "        self.embedding = nn.Embedding(self.vocab_size, self.embedding_dim)\n",
        "        self.embedding.weight = nn.Parameter(torch.tensor(embedding_matrix, dtype=torch.float32))\n",
        "        self.embedding.weight.requires_grad = True #SET TO TRUE/FALSE!\n",
        "        self.embedding_dropout = Dropout(dropout_p)\n",
        "        \n",
        "        self.rnn1 = nn.LSTM(input_size=self.embedding_dim,\n",
        "                           hidden_size=self.hidden_dim,\n",
        "                           bidirectional=True)\n",
        "        self.rnn2 = nn.LSTM(input_size=self.hidden_dim * 2,\n",
        "                           hidden_size=self.hidden_dim,\n",
        "                            bidirectional=True)\n",
        "        self.fc1 = nn.Linear(self.hidden_dim * 4, self.hidden_dim)\n",
        "        self.fc2 = nn.Linear(self.hidden_dim, self.output_dim)\n",
        "        \n",
        "    def forward(self, inputs):\n",
        "        \n",
        "        embedded = self.embedding(inputs)\n",
        "        embedded_dropout = self.embedding_dropout(embedded)\n",
        "        \n",
        "        output, _ = self.rnn1(embedded_dropout)\n",
        "        output, _ = self.rnn2(output)\n",
        "        \n",
        "        avg_output = torch.mean(output, 1) \n",
        "        max_output, _ = torch.max(output, 1) \n",
        "        output_conc = torch.cat((avg_output, max_output), 1) \n",
        "        \n",
        "        output = F.relu(self.fc1(output_conc))\n",
        "        output = self.fc2(output)\n",
        "\n",
        "        return output"
      ],
      "execution_count": 24,
      "outputs": []
    },
    {
      "cell_type": "markdown",
      "metadata": {
        "id": "OrX7TF7BitHa"
      },
      "source": [
        "As the loss function, I use Binary Cross Entropy Loss."
      ]
    },
    {
      "cell_type": "code",
      "metadata": {
        "id": "XwhykRYyND5K"
      },
      "source": [
        "loss_fn = nn.BCEWithLogitsLoss()"
      ],
      "execution_count": 36,
      "outputs": []
    },
    {
      "cell_type": "markdown",
      "metadata": {
        "id": "lvIXazSaND5G"
      },
      "source": [
        "## Training the model"
      ]
    },
    {
      "cell_type": "code",
      "metadata": {
        "id": "Smre-b3_ND5T"
      },
      "source": [
        "def train_model(model, train, val, lr, batch_size, n_epochs, checkpoint_path, best_model_path, update_embedding_weights=False, save_model=False):\n",
        "    \n",
        "    # define model parameters depending on whether embedding weights should be updated or not\n",
        "    if update_embedding_weights:\n",
        "        params = model.parameters()\n",
        "    else:\n",
        "        params = list(model.rnn1.parameters()) + list(model.rnn2.parameters()) + list(model.fc1.parameters()) + list(model.fc2.parameters())\n",
        "    \n",
        "    # define optimizer\n",
        "    optimizer = torch.optim.Adam(params, lr=lr)\n",
        "    \n",
        "    # get training and validation data loader\n",
        "    train_dl = torch.utils.data.DataLoader(train, batch_size=batch_size, shuffle=True)\n",
        "    val_dl = torch.utils.data.DataLoader(val, batch_size=batch_size, shuffle=False)\n",
        "\n",
        "    # define lists and variable to store loss and accuracy values\n",
        "    all_val_preds = []\n",
        "    losses_train = []\n",
        "    losses_val = []\n",
        "    epoch_loss_train = []\n",
        "    epoch_loss_val = []\n",
        "    epoch_acc_train = []\n",
        "    epoch_acc_val = []\n",
        "    best_val_acc = 0\n",
        "    \n",
        "    for epoch in range(n_epochs):\n",
        "        \n",
        "        start_time = time.time()\n",
        "        model.train()\n",
        "        \n",
        "        # define variables to store loss and accuracy values per epoch\n",
        "        avg_loss_train = 0\n",
        "        avg_loss_val = 0\n",
        "        avg_acc_train = 0\n",
        "        avg_acc_val = 0\n",
        "        \n",
        "        # loop over training set\n",
        "        for data in train_dl:\n",
        "            \n",
        "            x_batch = data[0].cuda()\n",
        "            y_batch = data[1].float().cuda()\n",
        "\n",
        "            # forward propogation\n",
        "            y_pred = model(x_batch).squeeze(1) \n",
        "\n",
        "            #backward propagation\n",
        "            loss = loss_fn(y_pred, y_batch)\n",
        "            \n",
        "            optimizer.zero_grad()\n",
        "            loss.backward()\n",
        "            optimizer.step()\n",
        "                \n",
        "            # get loss of batch\n",
        "            avg_loss_train += loss.item()\n",
        "            losses_train.append(loss.item())\n",
        "            \n",
        "            # get accuracy of batch \n",
        "            y_pred_bin = []\n",
        "            for pred in y_pred:\n",
        "                if pred >= 0.5:\n",
        "                    y_pred_bin.append(1)\n",
        "                else:\n",
        "                    y_pred_bin.append(0)\n",
        "            tens_y_pred_bin = torch.FloatTensor(y_pred_bin).cpu()\n",
        "            y_batch = y_batch.cpu()\n",
        "            train_batch_acc = accuracy_score(y_batch, tens_y_pred_bin)\n",
        "            avg_acc_train += train_batch_acc\n",
        "        \n",
        "        # get average training loss of epoch \n",
        "        avg_loss_train = avg_loss_train/len(train_dl)\n",
        "        epoch_loss_train.append(avg_loss_train)\n",
        "        \n",
        "        # get average training accuracy of epoch\n",
        "        avg_acc_train = avg_acc_train/len(train_dl)\n",
        "        epoch_acc_train.append(avg_acc_train)\n",
        "        \n",
        "        model.eval()\n",
        "        with torch.no_grad():\n",
        "\n",
        "            # loop over validation set\n",
        "            for data in val_dl:\n",
        "\n",
        "                x_batch = data[0].cuda()\n",
        "                y_batch = data[1].float().cuda()\n",
        "\n",
        "                y_pred = model(x_batch).squeeze(1)\n",
        "                loss = loss_fn(y_pred, y_batch)\n",
        "\n",
        "                # get loss of batch\n",
        "                avg_loss_val += loss.item()\n",
        "                losses_val.append(loss.item())\n",
        "\n",
        "                # get predictions of batch\n",
        "                y_pred = torch.sigmoid(y_pred)\n",
        "                all_val_preds.append(y_pred)\n",
        "                \n",
        "                # get accuracy of batch\n",
        "                y_pred_bin = []\n",
        "                for pred in y_pred:\n",
        "                    if pred >= 0.5:\n",
        "                        y_pred_bin.append(1)\n",
        "                    else:\n",
        "                        y_pred_bin.append(0)\n",
        "                tens_y_pred_bin = torch.FloatTensor(y_pred_bin).cpu()\n",
        "                y_batch = y_batch.cpu()\n",
        "                val_batch_acc = accuracy_score(y_batch, tens_y_pred_bin)\n",
        "                avg_acc_val += val_batch_acc\n",
        "\n",
        "            # get average validation loss of epoch\n",
        "            avg_loss_val = avg_loss_val/len(val_dl)\n",
        "            epoch_loss_val.append(avg_loss_val)\n",
        "            \n",
        "            # get average validation accuracy of epoch\n",
        "            avg_acc_val = avg_acc_val/len(val_dl)\n",
        "            epoch_acc_val.append(avg_acc_val)\n",
        "        \n",
        "        stats = {\n",
        "            'Epoch Loss Training': epoch_loss_train,\n",
        "            'Epoch Loss Validation': epoch_loss_val,\n",
        "            'Epoch Accuracy Training': epoch_acc_train,\n",
        "            'Epoch Accuracy Validation': epoch_acc_val,\n",
        "            'Validation Predictions': all_val_preds}\n",
        "\n",
        "        elapsed_time = time.time() - start_time\n",
        "\n",
        "        print(f'### Epoch {epoch+1}/{n_epochs}###')\n",
        "        print(f'Training: loss = {avg_loss_train:.4f}, accuracy = {avg_acc_train:.4f}')\n",
        "        print(f'Validation: loss = {avg_loss_val:.4f}, accuracy = {avg_acc_val:.4f}')\n",
        "        print(f'time = {elapsed_time:.2f} s')\n",
        "\n",
        "        # save model\n",
        "        if save_model:\n",
        "            \n",
        "            checkpoint = {\n",
        "              'epoch': epoch + 1,\n",
        "              'validation_accuracy': avg_acc_val,\n",
        "              'state_dict': model.state_dict(),\n",
        "              'optimizer': optimizer.state_dict()}\n",
        "\n",
        "            save_checkpoint(checkpoint, False, checkpoint_path, best_model_path, avg_acc_val)\n",
        "\n",
        "            if avg_acc_val >= best_val_acc:\n",
        "                print(f'Validation accuracy has improved ({best_val_acc:.4f} --> {avg_acc_val:.4f}). Saving model...')\n",
        "                save_checkpoint(checkpoint, True, checkpoint_path, best_model_path, avg_acc_val)\n",
        "                best_val_acc = avg_acc_val\n",
        "\n",
        "            logging.basicConfig(filename='/content/drive/My Drive/Kaggle/COVID-19_Sentiment_Analysis/training_prints.log', filemode='w', level='INFO')\n",
        "            logging.info(f'### Epoch {epoch+1}/{n_epochs}###')\n",
        "            logging.info(f'Training: loss = {avg_loss_train:.4f}, accuracy = {avg_acc_train:.4f}')\n",
        "            logging.info(f'Validation: loss = {avg_loss_val:.4f}, accuracy = {avg_acc_val:.4f}')\n",
        "            logging.info(f'time = {elapsed_time:.2f} s')\n",
        "            logging.info('Validation Accuracy of Best Model: {best_val_acc}')\n",
        "        \n",
        "        else:\n",
        "            if avg_acc_val >= best_val_acc:\n",
        "              best_val_acc = avg_acc_val\n",
        "\n",
        "    print(f'###Validation Accuracy of Best Model: {best_val_acc:.4f}###')\n",
        "        \n",
        "    return stats"
      ],
      "execution_count": 26,
      "outputs": []
    },
    {
      "cell_type": "code",
      "metadata": {
        "id": "A6o83KYHY-WG"
      },
      "source": [
        "def save_checkpoint(state, is_best, checkpoint_path, best_model_path, avg_acc_val):\n",
        "    \"\"\"\n",
        "    state: checkpoint we want to save\n",
        "    is_best: is this the best checkpoint (True/False)\n",
        "    checkpoint_path: path to save checkpoint (e.g. './experiment/current_checkpoint.pt')\n",
        "    best_model_path: path to save best model (e.g. './experiment/best_model.pt')\n",
        "    \"\"\"\n",
        "\n",
        "    # save checkpoint data to the path given, checkpoint_path\n",
        "    torch.save(state, checkpoint_path)\n",
        "    # if it is a best model\n",
        "    if is_best:\n",
        "        best_fpath = best_model_path\n",
        "        # copy that checkpoint file to best path given, best_model_path\n",
        "        shutil.copyfile(checkpoint_path, best_fpath)"
      ],
      "execution_count": 28,
      "outputs": []
    },
    {
      "cell_type": "code",
      "metadata": {
        "id": "KCvDfldPND5Y"
      },
      "source": [
        "def plot_learning_curve(train_values, val_values, num_epochs, title):\n",
        "    fig, axes = plt.subplots(figsize=(12, 8))\n",
        "    plt.plot(train_values)\n",
        "    plt.plot(val_values)\n",
        "    plt.legend(['train', 'val'])\n",
        "    plt.title(title)\n",
        "    labels = list(range(1,num_epochs+1))\n",
        "    plt.xticks(range(0,num_epochs), labels)\n",
        "    axes.set_ylim([0,1])\n",
        "    plt.show()"
      ],
      "execution_count": 29,
      "outputs": []
    },
    {
      "cell_type": "code",
      "metadata": {
        "id": "EwCPnpH3ND5d"
      },
      "source": [
        "def plot_roc_curve(fpr, tpr, auc):\n",
        "    plt.title(f'Receiver Operating Characteristic (ROC) Curve: \\n Auc Score = {auc:.4f}')\n",
        "    plt.plot(fpr, tpr, 'b')\n",
        "    plt.legend(loc = 'lower right')\n",
        "    plt.plot([0, 1], [0, 1],'r--')\n",
        "    plt.xlim([0, 1])\n",
        "    plt.ylim([0, 1])\n",
        "    plt.ylabel('True Positive Rate')\n",
        "    plt.xlabel('False Positive Rate')\n",
        "    plt.show()\n",
        "    \n",
        "def ROC_curve(val_set, val_preds, n_epochs):\n",
        "    y_true = val_set[:][1].cpu()\n",
        "    val_preds_comp = [i.item() for l in val_preds for i in l]\n",
        "    last_batch = len(val_preds_comp)/n_epochs*(n_epochs-1)\n",
        "    #print(last_batch)\n",
        "    fpr, tpr, thresholds = roc_curve(y_true, val_preds_comp[int(last_batch):])\n",
        "    auc = roc_auc_score(y_true, val_preds_comp[int(last_batch):])\n",
        "    plot_roc_curve(fpr, tpr, auc)"
      ],
      "execution_count": 30,
      "outputs": []
    },
    {
      "cell_type": "markdown",
      "metadata": {
        "ExecuteTime": {
          "end_time": "2020-10-22T13:16:02.556242Z",
          "start_time": "2020-10-22T13:16:02.516127Z"
        },
        "id": "5PnUfMg0faoh"
      },
      "source": [
        "I first instantiate the model and train it given the following hyperparameters:\n",
        "- hidden_dim=128\n",
        "- dropout_p=0.3\n",
        "- lr=0.001,\n",
        "- batch_size=512\n",
        "- n_epochs=20"
      ]
    },
    {
      "cell_type": "code",
      "metadata": {
        "id": "C8kQ6nyuND5H"
      },
      "source": [
        "model = LSTM_Classifier(vocab_size=len(tokenizer.word_index), hidden_dim=128, embedding_dim=300, output_dim=1, embedding_matrix=glove_matrix, dropout_p=0.3).cuda()"
      ],
      "execution_count": 33,
      "outputs": []
    },
    {
      "cell_type": "code",
      "metadata": {
        "id": "Sahp5ZebrXra",
        "outputId": "8cee2328-bda1-40ef-e8d0-8cced435b808",
        "colab": {
          "base_uri": "https://localhost:8080/",
          "height": 1000
        }
      },
      "source": [
        "stats = train_model(model, train_set, val_set, lr=0.001, batch_size=512, n_epochs=20, checkpoint_path='/content/drive/My Drive/Kaggle/COVID-19_Sentiment_Analysis/experiment_7/current_checkpoint.pt', best_model_path=f'/content/drive/My Drive/Kaggle/COVID-19_Sentiment_Analysis/experiment_7/best_model.pt', update_embedding_weights=False, save_model=True)"
      ],
      "execution_count": 37,
      "outputs": [
        {
          "output_type": "stream",
          "text": [
            "### Epoch 1/20###\n",
            "Training: loss = 0.6857, accuracy = 0.4698\n",
            "Validation: loss = 0.6518, accuracy = 0.6977\n",
            "time = 8.43 s\n",
            "### Epoch 2/20###\n",
            "Training: loss = 0.5054, accuracy = 0.7380\n",
            "Validation: loss = 0.4053, accuracy = 0.8152\n",
            "time = 8.33 s\n",
            "### Epoch 3/20###\n",
            "Training: loss = 0.4111, accuracy = 0.8022\n",
            "Validation: loss = 0.3756, accuracy = 0.8282\n",
            "time = 8.47 s\n",
            "### Epoch 4/20###\n",
            "Training: loss = 0.3879, accuracy = 0.8146\n",
            "Validation: loss = 0.3479, accuracy = 0.8508\n",
            "time = 8.55 s\n",
            "### Epoch 5/20###\n",
            "Training: loss = 0.3653, accuracy = 0.8288\n",
            "Validation: loss = 0.3358, accuracy = 0.8517\n",
            "time = 8.66 s\n",
            "### Epoch 6/20###\n",
            "Training: loss = 0.3466, accuracy = 0.8407\n",
            "Validation: loss = 0.3153, accuracy = 0.8657\n",
            "time = 8.73 s\n",
            "### Epoch 7/20###\n",
            "Training: loss = 0.3300, accuracy = 0.8497\n",
            "Validation: loss = 0.3150, accuracy = 0.8657\n",
            "time = 8.76 s\n",
            "### Epoch 8/20###\n",
            "Training: loss = 0.3148, accuracy = 0.8600\n",
            "Validation: loss = 0.2866, accuracy = 0.8798\n",
            "time = 8.80 s\n",
            "### Epoch 9/20###\n",
            "Training: loss = 0.2944, accuracy = 0.8721\n",
            "Validation: loss = 0.2833, accuracy = 0.8815\n",
            "time = 8.93 s\n",
            "### Epoch 10/20###\n",
            "Training: loss = 0.2822, accuracy = 0.8776\n",
            "Validation: loss = 0.2713, accuracy = 0.8924\n",
            "time = 8.75 s\n",
            "### Epoch 11/20###\n",
            "Training: loss = 0.2677, accuracy = 0.8857\n",
            "Validation: loss = 0.2653, accuracy = 0.8933\n",
            "time = 8.68 s\n",
            "### Epoch 12/20###\n",
            "Training: loss = 0.2612, accuracy = 0.8870\n",
            "Validation: loss = 0.2613, accuracy = 0.8954\n",
            "time = 8.70 s\n",
            "### Epoch 13/20###\n",
            "Training: loss = 0.2559, accuracy = 0.8924\n",
            "Validation: loss = 0.2552, accuracy = 0.8974\n",
            "time = 8.73 s\n",
            "### Epoch 14/20###\n",
            "Training: loss = 0.2460, accuracy = 0.8938\n",
            "Validation: loss = 0.2544, accuracy = 0.8952\n",
            "time = 8.67 s\n",
            "### Epoch 15/20###\n",
            "Training: loss = 0.2396, accuracy = 0.8984\n",
            "Validation: loss = 0.2541, accuracy = 0.8953\n",
            "time = 8.67 s\n",
            "### Epoch 16/20###\n",
            "Training: loss = 0.2337, accuracy = 0.9013\n",
            "Validation: loss = 0.2454, accuracy = 0.9049\n",
            "time = 8.75 s\n",
            "### Epoch 17/20###\n",
            "Training: loss = 0.2269, accuracy = 0.9051\n",
            "Validation: loss = 0.2389, accuracy = 0.9043\n",
            "time = 8.70 s\n",
            "### Epoch 18/20###\n",
            "Training: loss = 0.2197, accuracy = 0.9070\n",
            "Validation: loss = 0.2449, accuracy = 0.9065\n",
            "time = 8.78 s\n",
            "### Epoch 19/20###\n",
            "Training: loss = 0.2150, accuracy = 0.9089\n",
            "Validation: loss = 0.2361, accuracy = 0.9078\n",
            "time = 8.68 s\n",
            "### Epoch 20/20###\n",
            "Training: loss = 0.2082, accuracy = 0.9111\n",
            "Validation: loss = 0.2382, accuracy = 0.9090\n",
            "time = 8.74 s\n",
            "###Validation Accuracy of Best Model: 0.9090###\n"
          ],
          "name": "stdout"
        }
      ]
    },
    {
      "cell_type": "code",
      "metadata": {
        "id": "xyIuLKvnrbkh"
      },
      "source": [
        "loss_train, loss_val, acc_train, acc_val = stats['Epoch Loss Training'], stats['Epoch Loss Validation'], stats['Epoch Accuracy Training'], stats['Epoch Accuracy Validation']"
      ],
      "execution_count": 39,
      "outputs": []
    },
    {
      "cell_type": "markdown",
      "metadata": {
        "id": "XCkwnkxOfapU"
      },
      "source": [
        "Let's have a look at the learning curves:"
      ]
    },
    {
      "cell_type": "code",
      "metadata": {
        "id": "WBWmteAGrnXT",
        "outputId": "1707c884-3d19-44f5-c30f-39211efb18e6",
        "colab": {
          "base_uri": "https://localhost:8080/",
          "height": 499
        }
      },
      "source": [
        "plot_learning_curve(loss_train, loss_val, 20, 'Loss');"
      ],
      "execution_count": 40,
      "outputs": [
        {
          "output_type": "display_data",
          "data": {
            "image/png": "[encoded data removed]",
            "text/plain": [
              "<Figure size 864x576 with 1 Axes>"
            ]
          },
          "metadata": {
            "tags": [],
            "needs_background": "light"
          }
        }
      ]
    },
    {
      "cell_type": "code",
      "metadata": {
        "id": "xduOQYFbrpmS",
        "scrolled": false,
        "outputId": "f7aae7ec-9d92-46ef-cc0f-2a0e6d575112",
        "colab": {
          "base_uri": "https://localhost:8080/",
          "height": 499
        }
      },
      "source": [
        "plot_learning_curve(acc_train, acc_val, 20, 'Accuracy');"
      ],
      "execution_count": 41,
      "outputs": [
        {
          "output_type": "display_data",
          "data": {
            "image/png": "[encoded data removed]",
            "text/plain": [
              "<Figure size 864x576 with 1 Axes>"
            ]
          },
          "metadata": {
            "tags": [],
            "needs_background": "light"
          }
        }
      ]
    },
    {
      "cell_type": "markdown",
      "metadata": {
        "id": "AS0p4lUrfapf"
      },
      "source": [
        "Since this is the best performance I could achieve after several experiments (plus, where the training was fast, i.e. around three minutes), I now test my model on the test set."
      ]
    },
    {
      "cell_type": "markdown",
      "metadata": {
        "id": "b1OYVITefapf"
      },
      "source": [
        "## Testing"
      ]
    },
    {
      "cell_type": "code",
      "metadata": {
        "id": "eAB2MpWfr5gQ"
      },
      "source": [
        "model_testing = LSTM_Classifier(vocab_size=len(tokenizer.word_index), hidden_dim=128, embedding_dim=300, output_dim=1, embedding_matrix=glove_matrix, dropout_p=0.3).cuda()"
      ],
      "execution_count": 44,
      "outputs": []
    },
    {
      "cell_type": "code",
      "metadata": {
        "id": "aqzf4vqsPvCO"
      },
      "source": [
        "best_model = torch.load('/content/drive/My Drive/Kaggle/COVID-19_Sentiment_Analysis/experiment_7/best_model.pt')"
      ],
      "execution_count": 45,
      "outputs": []
    },
    {
      "cell_type": "code",
      "metadata": {
        "id": "fhBkfKnBNm3E",
        "outputId": "e6a23e33-6f87-4a79-c3db-bec663065836",
        "colab": {
          "base_uri": "https://localhost:8080/",
          "height": 153
        }
      },
      "source": [
        "model_testing.load_state_dict(best_model['state_dict'])\n",
        "model_testing.eval()"
      ],
      "execution_count": 46,
      "outputs": [
        {
          "output_type": "execute_result",
          "data": {
            "text/plain": [
              "LSTM_Classifier(\n",
              "  (embedding): Embedding(75036, 300)\n",
              "  (embedding_dropout): Dropout(p=0.3, inplace=False)\n",
              "  (rnn1): LSTM(300, 128, bidirectional=True)\n",
              "  (rnn2): LSTM(256, 128, bidirectional=True)\n",
              "  (fc1): Linear(in_features=512, out_features=128, bias=True)\n",
              "  (fc2): Linear(in_features=128, out_features=1, bias=True)\n",
              ")"
            ]
          },
          "metadata": {
            "tags": []
          },
          "execution_count": 46
        }
      ]
    },
    {
      "cell_type": "code",
      "metadata": {
        "id": "Y8Kxn7UjQDMC"
      },
      "source": [
        "def test(model, test, batch_size):\n",
        "    \n",
        "    # build the test data loader\n",
        "    test_dl = torch.utils.data.DataLoader(test, batch_size=batch_size, shuffle=False)\n",
        "    \n",
        "    # define variables and lists to store predictions and loss/accuracy\n",
        "    test_preds = []\n",
        "    loss_test = 0\n",
        "    acc_test = 0\n",
        "\n",
        "    with torch.no_grad():\n",
        "        \n",
        "        # loop through test dataloader\n",
        "        for data in test_dl:\n",
        "            x_batch = data[0].cuda()\n",
        "            y_batch = data[1].float().cuda()\n",
        "\n",
        "            y_pred = model(x_batch).squeeze(1)\n",
        "            loss = loss_fn(y_pred, y_batch)\n",
        "            loss_test += loss.item()\n",
        "\n",
        "            y_pred = torch.sigmoid(y_pred)\n",
        "            test_preds.append(y_pred)\n",
        "\n",
        "            y_pred_bin = []\n",
        "            for pred in y_pred:\n",
        "                if pred >= 0.5:\n",
        "                    y_pred_bin.append(1)\n",
        "                else:\n",
        "                    y_pred_bin.append(0)\n",
        "            tens_y_pred_bin = torch.FloatTensor(y_pred_bin).cpu()\n",
        "            y_batch = y_batch.cpu()\n",
        "            batch_acc = accuracy_score(y_batch, tens_y_pred_bin)\n",
        "            acc_test += batch_acc\n",
        "\n",
        "    # get loss\n",
        "    loss_test = loss_test/len(test_dl)\n",
        "    #get accuracy\n",
        "    acc_test = acc_test/len(test_dl)\n",
        "\n",
        "    print(f'Test Loss: {loss_test:.4f}')\n",
        "    print(f'Test Accuracy: {acc_test:.4f}')\n",
        "\n",
        "    return test_preds"
      ],
      "execution_count": 47,
      "outputs": []
    },
    {
      "cell_type": "code",
      "metadata": {
        "id": "uWtNKZUcSBiq",
        "outputId": "d6ab3b77-db9e-46f8-cd51-3ec1d439501a",
        "colab": {
          "base_uri": "https://localhost:8080/",
          "height": 51
        }
      },
      "source": [
        "preds = test(model_testing, test_set, batch_size=512)"
      ],
      "execution_count": 48,
      "outputs": [
        {
          "output_type": "stream",
          "text": [
            "Test Loss: 0.2879\n",
            "Test Accuracy: 0.8866\n"
          ],
          "name": "stdout"
        }
      ]
    },
    {
      "cell_type": "markdown",
      "metadata": {
        "id": "MXVff-W6fap3"
      },
      "source": [
        "As can be seen above, the overall test accuracy for my model is 0.8866"
      ]
    },
    {
      "cell_type": "markdown",
      "metadata": {
        "id": "zTempbvefaqE"
      },
      "source": [
        "Things I haven't tried but might further improve the model:\n",
        "- including a learning rate scheduler\n",
        "- adding more LSTM layers to the model\n",
        "- find a way to update the embedding weights during training without horribly overfitting the training set (which happened when I tried to do this)"
      ]
    }
  ]
}